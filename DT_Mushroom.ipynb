{
 "cells": [
  {
   "cell_type": "markdown",
   "metadata": {},
   "source": [
    "Reading Data and Checking Missing Value"
   ]
  },
  {
   "cell_type": "code",
   "execution_count": 1,
   "metadata": {},
   "outputs": [],
   "source": [
    "import pandas as pd\n",
    "\n",
    "data = pd.read_csv(\"mushroom_dataset_new.csv\", na_values =\"?\")\n",
    "#na_values menambahkan aturan tambahan karena ? merupakan null"
   ]
  },
  {
   "cell_type": "markdown",
   "metadata": {},
   "source": [
    "PreProcessing"
   ]
  },
  {
   "cell_type": "code",
   "execution_count": 2,
   "metadata": {},
   "outputs": [
    {
     "name": "stdout",
     "output_type": "stream",
     "text": [
      "cap-shape                      0\n",
      "cap-surface                    0\n",
      "cap-color                      0\n",
      "bruises                        0\n",
      "odor                           0\n",
      "gill-attachment                0\n",
      "gill-spacing                   0\n",
      "gill-size                      0\n",
      "gill-color                     0\n",
      "stalk-shape                    0\n",
      "stalk-root                  2480\n",
      "stalk-surface-above-ring       0\n",
      "stalk-surface-below-ring       0\n",
      "stalk-color-above-ring         0\n",
      "stalk-color-below-ring         0\n",
      "veil-color                     0\n",
      "ring-number                    0\n",
      "ring-type                      0\n",
      "spore-print-color              0\n",
      "population                     0\n",
      "habitat                        0\n",
      "mushroom                       0\n",
      "dtype: int64\n"
     ]
    }
   ],
   "source": [
    "from sklearn.preprocessing import LabelEncoder\n",
    "\n",
    "#mengecek jumlah data yang kosong atau missing value\n",
    "print(data.isnull().sum()) #Tidak ada data yang kosong / missing"
   ]
  },
  {
   "cell_type": "code",
   "execution_count": 3,
   "metadata": {},
   "outputs": [
    {
     "name": "stdout",
     "output_type": "stream",
     "text": [
      "cap-shape                   0\n",
      "cap-surface                 0\n",
      "cap-color                   0\n",
      "bruises                     0\n",
      "odor                        0\n",
      "gill-attachment             0\n",
      "gill-spacing                0\n",
      "gill-size                   0\n",
      "gill-color                  0\n",
      "stalk-shape                 0\n",
      "stalk-surface-above-ring    0\n",
      "stalk-surface-below-ring    0\n",
      "stalk-color-above-ring      0\n",
      "stalk-color-below-ring      0\n",
      "veil-color                  0\n",
      "ring-number                 0\n",
      "ring-type                   0\n",
      "spore-print-color           0\n",
      "population                  0\n",
      "habitat                     0\n",
      "mushroom                    0\n",
      "dtype: int64\n"
     ]
    }
   ],
   "source": [
    "del data[\"stalk-root\"]\n",
    "print(data.isnull().sum())\n",
    "# data [\"stalk-root\"] = data[\"stalk-root\"].fillna(\"NoData\")\n",
    "# print(data.isnull().sum())\n",
    "# data[\"stalk-root\"]"
   ]
  },
  {
   "cell_type": "code",
   "execution_count": 4,
   "metadata": {},
   "outputs": [],
   "source": [
    "data = data.values\n",
    "X = data[:, 1:-1]\n",
    "y = data[:, -1]\n",
    "\n",
    "le = LabelEncoder()\n",
    "\n",
    "for i in range(0, 20):\n",
    "    data[:, i] = le.fit_transform(data[:, i])\n",
    "\n"
   ]
  },
  {
   "cell_type": "code",
   "execution_count": 5,
   "metadata": {},
   "outputs": [],
   "source": [
    "from sklearn.model_selection import train_test_split\n",
    "\n",
    "x_train = []\n",
    "x_test = []\n",
    "y_train = [] \n",
    "y_test = []\n",
    "\n",
    "for i in range(5):\n",
    "    x_tr, x_ts, y_tr, y_ts = train_test_split(X, y, train_size=(1.0 - ((i+1)/10)), random_state=10)\n",
    "    x_train.append(x_tr)\n",
    "    x_test.append(x_ts)\n",
    "    y_train.append(y_tr)\n",
    "    y_test.append(y_ts)"
   ]
  },
  {
   "cell_type": "markdown",
   "metadata": {},
   "source": [
    "Decision Tree"
   ]
  },
  {
   "cell_type": "code",
   "execution_count": 6,
   "metadata": {},
   "outputs": [
    {
     "name": "stdout",
     "output_type": "stream",
     "text": [
      "Accuration rate for Decision Tree:\n",
      "1. Train size 0.9 = 100.0%\n",
      "2. Train size 0.8 = 100.0%\n",
      "3. Train size 0.7 = 100.0%\n",
      "4. Train size 0.6 = 100.0%\n",
      "5. Train size 0.5 = 100.0%\n"
     ]
    }
   ],
   "source": [
    "from sklearn.tree import DecisionTreeClassifier\n",
    "\n",
    "clf = DecisionTreeClassifier()\n",
    "\n",
    "print(\"Accuration rate for Decision Tree:\")\n",
    "for i in range(5):\n",
    "    clf.fit(x_train[i], y_train[i])\n",
    "    y_predict = clf.predict(x_test[i])\n",
    "    error = ((y_test[i] != y_predict).sum()/len(y_predict)*100)\n",
    "    akurasi = str(100 - error) + \"%\"\n",
    "    print(f\"{(i+1)}. Train size {(1.0 - ((i+1)/10))} =\", akurasi)"
   ]
  }
 ],
 "metadata": {
  "kernelspec": {
   "display_name": "Python 3.10.2 64-bit",
   "language": "python",
   "name": "python3"
  },
  "language_info": {
   "codemirror_mode": {
    "name": "ipython",
    "version": 3
   },
   "file_extension": ".py",
   "mimetype": "text/x-python",
   "name": "python",
   "nbconvert_exporter": "python",
   "pygments_lexer": "ipython3",
   "version": "3.10.2"
  },
  "orig_nbformat": 4,
  "vscode": {
   "interpreter": {
    "hash": "fb4569285eef3a3450cb62085a5b1e0da4bce0af555edc33dcf29baf3acc1368"
   }
  }
 },
 "nbformat": 4,
 "nbformat_minor": 2
}
