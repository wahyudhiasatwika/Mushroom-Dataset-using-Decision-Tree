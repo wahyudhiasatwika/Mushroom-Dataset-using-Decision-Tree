{
 "cells": [
  {
   "cell_type": "markdown",
   "id": "955dd9f3",
   "metadata": {},
   "source": [
    "1. Analisis Data"
   ]
  },
  {
   "cell_type": "code",
   "execution_count": 2,
   "id": "215b4004",
   "metadata": {},
   "outputs": [
    {
     "data": {
      "text/html": [
       "<div>\n",
       "<style scoped>\n",
       "    .dataframe tbody tr th:only-of-type {\n",
       "        vertical-align: middle;\n",
       "    }\n",
       "\n",
       "    .dataframe tbody tr th {\n",
       "        vertical-align: top;\n",
       "    }\n",
       "\n",
       "    .dataframe thead th {\n",
       "        text-align: right;\n",
       "    }\n",
       "</style>\n",
       "<table border=\"1\" class=\"dataframe\">\n",
       "  <thead>\n",
       "    <tr style=\"text-align: right;\">\n",
       "      <th></th>\n",
       "      <th>cap-shape</th>\n",
       "      <th>cap-surface</th>\n",
       "      <th>cap-color</th>\n",
       "      <th>bruises</th>\n",
       "      <th>odor</th>\n",
       "      <th>gill-attachment</th>\n",
       "      <th>gill-spacing</th>\n",
       "      <th>gill-size</th>\n",
       "      <th>gill-color</th>\n",
       "      <th>stalk-shape</th>\n",
       "      <th>...</th>\n",
       "      <th>stalk-surface-below-ring</th>\n",
       "      <th>stalk-color-above-ring</th>\n",
       "      <th>stalk-color-below-ring</th>\n",
       "      <th>veil-color</th>\n",
       "      <th>ring-number</th>\n",
       "      <th>ring-type</th>\n",
       "      <th>spore-print-color</th>\n",
       "      <th>population</th>\n",
       "      <th>habitat</th>\n",
       "      <th>mushroom</th>\n",
       "    </tr>\n",
       "  </thead>\n",
       "  <tbody>\n",
       "    <tr>\n",
       "      <th>0</th>\n",
       "      <td>CONVEX</td>\n",
       "      <td>SMOOTH</td>\n",
       "      <td>WHITE</td>\n",
       "      <td>BRUISES</td>\n",
       "      <td>ALMOND</td>\n",
       "      <td>FREE</td>\n",
       "      <td>CROWDED</td>\n",
       "      <td>NARROW</td>\n",
       "      <td>WHITE</td>\n",
       "      <td>TAPERING</td>\n",
       "      <td>...</td>\n",
       "      <td>SMOOTH</td>\n",
       "      <td>WHITE</td>\n",
       "      <td>WHITE</td>\n",
       "      <td>WHITE</td>\n",
       "      <td>ONE</td>\n",
       "      <td>PENDANT</td>\n",
       "      <td>PURPLE</td>\n",
       "      <td>SEVERAL</td>\n",
       "      <td>WOODS</td>\n",
       "      <td>EDIBLE</td>\n",
       "    </tr>\n",
       "    <tr>\n",
       "      <th>1</th>\n",
       "      <td>CONVEX</td>\n",
       "      <td>SMOOTH</td>\n",
       "      <td>WHITE</td>\n",
       "      <td>BRUISES</td>\n",
       "      <td>ALMOND</td>\n",
       "      <td>FREE</td>\n",
       "      <td>CROWDED</td>\n",
       "      <td>NARROW</td>\n",
       "      <td>WHITE</td>\n",
       "      <td>TAPERING</td>\n",
       "      <td>...</td>\n",
       "      <td>SMOOTH</td>\n",
       "      <td>WHITE</td>\n",
       "      <td>WHITE</td>\n",
       "      <td>WHITE</td>\n",
       "      <td>ONE</td>\n",
       "      <td>PENDANT</td>\n",
       "      <td>BROWN</td>\n",
       "      <td>SEVERAL</td>\n",
       "      <td>WOODS</td>\n",
       "      <td>EDIBLE</td>\n",
       "    </tr>\n",
       "    <tr>\n",
       "      <th>2</th>\n",
       "      <td>CONVEX</td>\n",
       "      <td>SMOOTH</td>\n",
       "      <td>WHITE</td>\n",
       "      <td>BRUISES</td>\n",
       "      <td>ALMOND</td>\n",
       "      <td>FREE</td>\n",
       "      <td>CROWDED</td>\n",
       "      <td>NARROW</td>\n",
       "      <td>PINK</td>\n",
       "      <td>TAPERING</td>\n",
       "      <td>...</td>\n",
       "      <td>SMOOTH</td>\n",
       "      <td>WHITE</td>\n",
       "      <td>WHITE</td>\n",
       "      <td>WHITE</td>\n",
       "      <td>ONE</td>\n",
       "      <td>PENDANT</td>\n",
       "      <td>PURPLE</td>\n",
       "      <td>SEVERAL</td>\n",
       "      <td>WOODS</td>\n",
       "      <td>EDIBLE</td>\n",
       "    </tr>\n",
       "    <tr>\n",
       "      <th>3</th>\n",
       "      <td>CONVEX</td>\n",
       "      <td>SMOOTH</td>\n",
       "      <td>WHITE</td>\n",
       "      <td>BRUISES</td>\n",
       "      <td>ALMOND</td>\n",
       "      <td>FREE</td>\n",
       "      <td>CROWDED</td>\n",
       "      <td>NARROW</td>\n",
       "      <td>PINK</td>\n",
       "      <td>TAPERING</td>\n",
       "      <td>...</td>\n",
       "      <td>SMOOTH</td>\n",
       "      <td>WHITE</td>\n",
       "      <td>WHITE</td>\n",
       "      <td>WHITE</td>\n",
       "      <td>ONE</td>\n",
       "      <td>PENDANT</td>\n",
       "      <td>BROWN</td>\n",
       "      <td>SEVERAL</td>\n",
       "      <td>WOODS</td>\n",
       "      <td>EDIBLE</td>\n",
       "    </tr>\n",
       "    <tr>\n",
       "      <th>4</th>\n",
       "      <td>CONVEX</td>\n",
       "      <td>SMOOTH</td>\n",
       "      <td>WHITE</td>\n",
       "      <td>BRUISES</td>\n",
       "      <td>ALMOND</td>\n",
       "      <td>FREE</td>\n",
       "      <td>CROWDED</td>\n",
       "      <td>NARROW</td>\n",
       "      <td>BROWN</td>\n",
       "      <td>TAPERING</td>\n",
       "      <td>...</td>\n",
       "      <td>SMOOTH</td>\n",
       "      <td>WHITE</td>\n",
       "      <td>WHITE</td>\n",
       "      <td>WHITE</td>\n",
       "      <td>ONE</td>\n",
       "      <td>PENDANT</td>\n",
       "      <td>PURPLE</td>\n",
       "      <td>SEVERAL</td>\n",
       "      <td>WOODS</td>\n",
       "      <td>EDIBLE</td>\n",
       "    </tr>\n",
       "  </tbody>\n",
       "</table>\n",
       "<p>5 rows × 22 columns</p>\n",
       "</div>"
      ],
      "text/plain": [
       "  cap-shape cap-surface cap-color  bruises    odor gill-attachment  \\\n",
       "0    CONVEX      SMOOTH     WHITE  BRUISES  ALMOND            FREE   \n",
       "1    CONVEX      SMOOTH     WHITE  BRUISES  ALMOND            FREE   \n",
       "2    CONVEX      SMOOTH     WHITE  BRUISES  ALMOND            FREE   \n",
       "3    CONVEX      SMOOTH     WHITE  BRUISES  ALMOND            FREE   \n",
       "4    CONVEX      SMOOTH     WHITE  BRUISES  ALMOND            FREE   \n",
       "\n",
       "  gill-spacing gill-size gill-color stalk-shape  ... stalk-surface-below-ring  \\\n",
       "0      CROWDED    NARROW      WHITE    TAPERING  ...                   SMOOTH   \n",
       "1      CROWDED    NARROW      WHITE    TAPERING  ...                   SMOOTH   \n",
       "2      CROWDED    NARROW       PINK    TAPERING  ...                   SMOOTH   \n",
       "3      CROWDED    NARROW       PINK    TAPERING  ...                   SMOOTH   \n",
       "4      CROWDED    NARROW      BROWN    TAPERING  ...                   SMOOTH   \n",
       "\n",
       "  stalk-color-above-ring stalk-color-below-ring veil-color ring-number  \\\n",
       "0                  WHITE                  WHITE      WHITE         ONE   \n",
       "1                  WHITE                  WHITE      WHITE         ONE   \n",
       "2                  WHITE                  WHITE      WHITE         ONE   \n",
       "3                  WHITE                  WHITE      WHITE         ONE   \n",
       "4                  WHITE                  WHITE      WHITE         ONE   \n",
       "\n",
       "  ring-type spore-print-color population habitat mushroom  \n",
       "0   PENDANT            PURPLE    SEVERAL   WOODS   EDIBLE  \n",
       "1   PENDANT             BROWN    SEVERAL   WOODS   EDIBLE  \n",
       "2   PENDANT            PURPLE    SEVERAL   WOODS   EDIBLE  \n",
       "3   PENDANT             BROWN    SEVERAL   WOODS   EDIBLE  \n",
       "4   PENDANT            PURPLE    SEVERAL   WOODS   EDIBLE  \n",
       "\n",
       "[5 rows x 22 columns]"
      ]
     },
     "metadata": {},
     "output_type": "display_data"
    },
    {
     "name": "stdout",
     "output_type": "stream",
     "text": [
      "<class 'pandas.core.frame.DataFrame'>\n",
      "RangeIndex: 8416 entries, 0 to 8415\n",
      "Data columns (total 22 columns):\n",
      " #   Column                    Non-Null Count  Dtype \n",
      "---  ------                    --------------  ----- \n",
      " 0   cap-shape                 8416 non-null   object\n",
      " 1   cap-surface               8416 non-null   object\n",
      " 2   cap-color                 8416 non-null   object\n",
      " 3   bruises                   8416 non-null   object\n",
      " 4   odor                      8416 non-null   object\n",
      " 5   gill-attachment           8416 non-null   object\n",
      " 6   gill-spacing              8416 non-null   object\n",
      " 7   gill-size                 8416 non-null   object\n",
      " 8   gill-color                8416 non-null   object\n",
      " 9   stalk-shape               8416 non-null   object\n",
      " 10  stalk-root                5936 non-null   object\n",
      " 11  stalk-surface-above-ring  8416 non-null   object\n",
      " 12  stalk-surface-below-ring  8416 non-null   object\n",
      " 13  stalk-color-above-ring    8416 non-null   object\n",
      " 14  stalk-color-below-ring    8416 non-null   object\n",
      " 15  veil-color                8416 non-null   object\n",
      " 16  ring-number               8416 non-null   object\n",
      " 17  ring-type                 8416 non-null   object\n",
      " 18  spore-print-color         8416 non-null   object\n",
      " 19  population                8416 non-null   object\n",
      " 20  habitat                   8416 non-null   object\n",
      " 21  mushroom                  8416 non-null   object\n",
      "dtypes: object(22)\n",
      "memory usage: 1.4+ MB\n",
      "Dataset shape: (8416, 22)\n"
     ]
    },
    {
     "data": {
      "image/png": "[encoded data removed]",
      "text/plain": [
       "<Figure size 576x504 with 1 Axes>"
      ]
     },
     "metadata": {
      "needs_background": "light"
     },
     "output_type": "display_data"
    }
   ],
   "source": [
    "import pandas as pd\n",
    "import numpy as np\n",
    "import seaborn as sns\n",
    "import matplotlib.pyplot as plt\n",
    "import itertools\n",
    "import os\n",
    "from sklearn.model_selection import train_test_split\n",
    "from sklearn.preprocessing import LabelEncoder\n",
    "from sklearn.metrics import classification_report, confusion_matrix\n",
    "from sklearn.tree import export_graphviz\n",
    "import scipy.stats as ss\n",
    "import warnings\n",
    "\n",
    "warnings.filterwarnings(\"ignore\")\n",
    "\n",
    "# pd.set_option('display.max_columns', None)\n",
    "# pd.set_option('display.max_rows', None)\n",
    "\n",
    "dc = \"mushroom_dataset_new.csv\"\n",
    "\n",
    "data = pd.read_csv(dc, na_values=\"?\")\n",
    "\n",
    "display(data.head()) #Menampilkan 5 data dari atas\n",
    "\n",
    "data.info() #Untuk menampilkan info data seperti Dtype dan jumlah data yang null.\n",
    "\n",
    "data.fillna(\"N/A\", inplace = True)\n",
    "\n",
    "data.describe() #Untuk menampilkan data yang sering muncul dari tiap kolom\n",
    "\n",
    "print(\"Dataset shape:\", data.shape) #Untuk menampilkan bentuk data, total data dan jumlah kolom\n",
    "\n",
    "# for column in data.columns.tolist():\n",
    "#     print(data[column].value_counts())\n",
    "\n",
    "data[\"mushroom\"].unique()\n",
    "\n",
    "count = data['mushroom'].value_counts()\n",
    "plt.figure(figsize=(8,7))\n",
    "sns.barplot(count.index, count.values, alpha=0.8, palette=\"tab10\")\n",
    "plt.ylabel('Total Data', fontsize=12)\n",
    "plt.xlabel('mushroom', fontsize=12)\n",
    "plt.title('Graf Jamur beracun dan tidak beracun')\n",
    "#plt.savefig(\"mushrooms1.png\", format='png', dpi=900)\n",
    "plt.show()"
   ]
  },
  {
   "cell_type": "code",
   "execution_count": 3,
   "id": "d8e71d3b",
   "metadata": {},
   "outputs": [
    {
     "data": {
      "text/plain": [
       "cap-shape                   category\n",
       "cap-surface                 category\n",
       "cap-color                   category\n",
       "bruises                     category\n",
       "odor                        category\n",
       "gill-attachment             category\n",
       "gill-spacing                category\n",
       "gill-size                   category\n",
       "gill-color                  category\n",
       "stalk-shape                 category\n",
       "stalk-root                  category\n",
       "stalk-surface-above-ring    category\n",
       "stalk-surface-below-ring    category\n",
       "stalk-color-above-ring      category\n",
       "stalk-color-below-ring      category\n",
       "veil-color                  category\n",
       "ring-number                 category\n",
       "ring-type                   category\n",
       "spore-print-color           category\n",
       "population                  category\n",
       "habitat                     category\n",
       "mushroom                    category\n",
       "dtype: object"
      ]
     },
     "execution_count": 3,
     "metadata": {},
     "output_type": "execute_result"
    }
   ],
   "source": [
    "data = data.astype('category') #mengubah tipe data object menjadi category\n",
    "data.dtypes"
   ]
  },
  {
   "cell_type": "code",
   "execution_count": 4,
   "id": "8104aecd",
   "metadata": {},
   "outputs": [
    {
     "data": {
      "text/plain": [
       "cap-shape\n",
       "BELL        452\n",
       "CONICAL       4\n",
       "CONVEX     3796\n",
       "FLAT       3292\n",
       "KNOBBED     840\n",
       "SUNKEN       32\n",
       "dtype: int64"
      ]
     },
     "metadata": {},
     "output_type": "display_data"
    },
    {
     "name": "stdout",
     "output_type": "stream",
     "text": [
      "1\n"
     ]
    },
    {
     "data": {
      "text/plain": [
       "cap-surface\n",
       "FIBROUS    2460\n",
       "GROOVES       4\n",
       "SCALY      3268\n",
       "SMOOTH     2684\n",
       "dtype: int64"
      ]
     },
     "metadata": {},
     "output_type": "display_data"
    },
    {
     "name": "stdout",
     "output_type": "stream",
     "text": [
      "2\n"
     ]
    },
    {
     "data": {
      "text/plain": [
       "cap-color\n",
       "BROWN       2320\n",
       "BUFF         168\n",
       "CINNAMON      44\n",
       "GRAY        2096\n",
       "GREEN         16\n",
       "PINK         144\n",
       "PURPLE        16\n",
       "RED         1500\n",
       "WHITE       1040\n",
       "YELLOW      1072\n",
       "dtype: int64"
      ]
     },
     "metadata": {},
     "output_type": "display_data"
    },
    {
     "name": "stdout",
     "output_type": "stream",
     "text": [
      "3\n"
     ]
    },
    {
     "data": {
      "text/plain": [
       "bruises\n",
       "BRUISES    3376\n",
       "NO         5040\n",
       "dtype: int64"
      ]
     },
     "metadata": {},
     "output_type": "display_data"
    },
    {
     "name": "stdout",
     "output_type": "stream",
     "text": [
      "4\n"
     ]
    },
    {
     "data": {
      "text/plain": [
       "odor\n",
       "ALMOND       400\n",
       "ANISE        400\n",
       "CREOSOTE     192\n",
       "FISHY        576\n",
       "FOUL        2160\n",
       "MUSTY         48\n",
       "NONE        3808\n",
       "PUNGENT      256\n",
       "SPICY        576\n",
       "dtype: int64"
      ]
     },
     "metadata": {},
     "output_type": "display_data"
    },
    {
     "name": "stdout",
     "output_type": "stream",
     "text": [
      "5\n"
     ]
    },
    {
     "data": {
      "text/plain": [
       "gill-attachment\n",
       "ATTACHED     216\n",
       "FREE        8200\n",
       "dtype: int64"
      ]
     },
     "metadata": {},
     "output_type": "display_data"
    },
    {
     "name": "stdout",
     "output_type": "stream",
     "text": [
      "6\n"
     ]
    },
    {
     "data": {
      "text/plain": [
       "gill-spacing\n",
       "CLOSE      6824\n",
       "CROWDED    1592\n",
       "dtype: int64"
      ]
     },
     "metadata": {},
     "output_type": "display_data"
    },
    {
     "name": "stdout",
     "output_type": "stream",
     "text": [
      "7\n"
     ]
    },
    {
     "data": {
      "text/plain": [
       "gill-size\n",
       "BROAD     5880\n",
       "NARROW    2536\n",
       "dtype: int64"
      ]
     },
     "metadata": {},
     "output_type": "display_data"
    },
    {
     "name": "stdout",
     "output_type": "stream",
     "text": [
      "8\n"
     ]
    },
    {
     "data": {
      "text/plain": [
       "gill-color\n",
       "BLACK         472\n",
       "BROWN        1112\n",
       "BUFF         1728\n",
       "CHOCOLATE     796\n",
       "GRAY          752\n",
       "GREEN          24\n",
       "ORANGE         64\n",
       "PINK         1556\n",
       "PURPLE        492\n",
       "RED            96\n",
       "WHITE        1232\n",
       "YELLOW         92\n",
       "dtype: int64"
      ]
     },
     "metadata": {},
     "output_type": "display_data"
    },
    {
     "name": "stdout",
     "output_type": "stream",
     "text": [
      "9\n"
     ]
    },
    {
     "data": {
      "text/plain": [
       "stalk-shape\n",
       "ENLARGING    3552\n",
       "TAPERING     4864\n",
       "dtype: int64"
      ]
     },
     "metadata": {},
     "output_type": "display_data"
    },
    {
     "name": "stdout",
     "output_type": "stream",
     "text": [
      "10\n"
     ]
    },
    {
     "data": {
      "text/plain": [
       "stalk-root\n",
       "BULBOUS    3800\n",
       "CLUB        568\n",
       "EQUAL      1376\n",
       "N/A        2480\n",
       "ROOTED      192\n",
       "dtype: int64"
      ]
     },
     "metadata": {},
     "output_type": "display_data"
    },
    {
     "name": "stdout",
     "output_type": "stream",
     "text": [
      "11\n"
     ]
    },
    {
     "data": {
      "text/plain": [
       "stalk-surface-above-ring\n",
       "FIBROUS     692\n",
       "SCALY        24\n",
       "SILKY      2384\n",
       "SMOOTH     5316\n",
       "dtype: int64"
      ]
     },
     "metadata": {},
     "output_type": "display_data"
    },
    {
     "name": "stdout",
     "output_type": "stream",
     "text": [
      "12\n"
     ]
    },
    {
     "data": {
      "text/plain": [
       "stalk-surface-below-ring\n",
       "FIBROUS     740\n",
       "SCALY       296\n",
       "SILKY      2304\n",
       "SMOOTH     5076\n",
       "dtype: int64"
      ]
     },
     "metadata": {},
     "output_type": "display_data"
    },
    {
     "name": "stdout",
     "output_type": "stream",
     "text": [
      "13\n"
     ]
    },
    {
     "data": {
      "text/plain": [
       "stalk-color-above-ring\n",
       "BROWN        448\n",
       "BUFF         432\n",
       "CINNAMON      48\n",
       "GRAY         576\n",
       "ORANGE       192\n",
       "PINK        1872\n",
       "RED           96\n",
       "WHITE       4744\n",
       "YELLOW         8\n",
       "dtype: int64"
      ]
     },
     "metadata": {},
     "output_type": "display_data"
    },
    {
     "name": "stdout",
     "output_type": "stream",
     "text": [
      "14\n"
     ]
    },
    {
     "data": {
      "text/plain": [
       "stalk-color-below-ring\n",
       "BROWN        536\n",
       "BUFF         432\n",
       "CINNAMON      48\n",
       "GRAY         576\n",
       "ORANGE       192\n",
       "PINK        1872\n",
       "RED           96\n",
       "WHITE       4640\n",
       "YELLOW        24\n",
       "dtype: int64"
      ]
     },
     "metadata": {},
     "output_type": "display_data"
    },
    {
     "name": "stdout",
     "output_type": "stream",
     "text": [
      "15\n"
     ]
    },
    {
     "data": {
      "text/plain": [
       "veil-color\n",
       "BROWN       96\n",
       "ORANGE      96\n",
       "WHITE     8216\n",
       "YELLOW       8\n",
       "dtype: int64"
      ]
     },
     "metadata": {},
     "output_type": "display_data"
    },
    {
     "name": "stdout",
     "output_type": "stream",
     "text": [
      "16\n"
     ]
    },
    {
     "data": {
      "text/plain": [
       "ring-number\n",
       "NONE      48\n",
       "ONE     7768\n",
       "TWO      600\n",
       "dtype: int64"
      ]
     },
     "metadata": {},
     "output_type": "display_data"
    },
    {
     "name": "stdout",
     "output_type": "stream",
     "text": [
      "17\n"
     ]
    },
    {
     "data": {
      "text/plain": [
       "ring-type\n",
       "EVANESCENT    3056\n",
       "FLARING         48\n",
       "LARGE         1296\n",
       "NONE            48\n",
       "PENDANT       3968\n",
       "dtype: int64"
      ]
     },
     "metadata": {},
     "output_type": "display_data"
    },
    {
     "name": "stdout",
     "output_type": "stream",
     "text": [
      "18\n"
     ]
    },
    {
     "data": {
      "text/plain": [
       "spore-print-color\n",
       "BLACK        2000\n",
       "BROWN        2096\n",
       "BUFF           48\n",
       "CHOCOLATE    1632\n",
       "GREEN          72\n",
       "ORANGE         48\n",
       "PURPLE         48\n",
       "WHITE        2424\n",
       "YELLOW         48\n",
       "dtype: int64"
      ]
     },
     "metadata": {},
     "output_type": "display_data"
    },
    {
     "name": "stdout",
     "output_type": "stream",
     "text": [
      "19\n"
     ]
    },
    {
     "data": {
      "text/plain": [
       "population\n",
       "ABUNDANT      512\n",
       "CLUSTERED     352\n",
       "NUMEROUS      400\n",
       "SCATTERED    1376\n",
       "SEVERAL      4064\n",
       "SOLITARY     1712\n",
       "dtype: int64"
      ]
     },
     "metadata": {},
     "output_type": "display_data"
    },
    {
     "name": "stdout",
     "output_type": "stream",
     "text": [
      "20\n"
     ]
    },
    {
     "data": {
      "text/plain": [
       "habitat\n",
       "GRASSES    2404\n",
       "LEAVES      856\n",
       "MEADOWS     292\n",
       "PATHS      1144\n",
       "URBAN       368\n",
       "WASTE       192\n",
       "WOODS      3160\n",
       "dtype: int64"
      ]
     },
     "metadata": {},
     "output_type": "display_data"
    },
    {
     "name": "stdout",
     "output_type": "stream",
     "text": [
      "21\n"
     ]
    },
    {
     "data": {
      "text/plain": [
       "mushroom\n",
       "EDIBLE       4488\n",
       "POISONOUS    3928\n",
       "dtype: int64"
      ]
     },
     "metadata": {},
     "output_type": "display_data"
    },
    {
     "name": "stdout",
     "output_type": "stream",
     "text": [
      "22\n"
     ]
    }
   ],
   "source": [
    "i = 1\n",
    "for column in data.columns:\n",
    "    occur = data.groupby([column]).size()\n",
    "    display(occur)\n",
    "    print(i)\n",
    "    i+=1\n",
    "#Untuk menampilkan data yang muncul pada tiap kolom. Sangat berguna apabila ingin mencari tahu record-record sebelum di encoding"
   ]
  },
  {
   "cell_type": "code",
   "execution_count": 5,
   "id": "1f080c22",
   "metadata": {},
   "outputs": [],
   "source": [
    "#Label enconding dengan cara Bryan\n",
    "labelencoder=LabelEncoder()\n",
    "for column in data.columns:\n",
    "    data[column] = labelencoder.fit_transform(data[column])"
   ]
  },
  {
   "cell_type": "code",
   "execution_count": 6,
   "id": "0f629b36",
   "metadata": {},
   "outputs": [
    {
     "data": {
      "text/html": [
       "<div>\n",
       "<style scoped>\n",
       "    .dataframe tbody tr th:only-of-type {\n",
       "        vertical-align: middle;\n",
       "    }\n",
       "\n",
       "    .dataframe tbody tr th {\n",
       "        vertical-align: top;\n",
       "    }\n",
       "\n",
       "    .dataframe thead th {\n",
       "        text-align: right;\n",
       "    }\n",
       "</style>\n",
       "<table border=\"1\" class=\"dataframe\">\n",
       "  <thead>\n",
       "    <tr style=\"text-align: right;\">\n",
       "      <th></th>\n",
       "      <th>cap-shape</th>\n",
       "      <th>cap-surface</th>\n",
       "      <th>cap-color</th>\n",
       "      <th>bruises</th>\n",
       "      <th>odor</th>\n",
       "      <th>gill-attachment</th>\n",
       "      <th>gill-spacing</th>\n",
       "      <th>gill-size</th>\n",
       "      <th>gill-color</th>\n",
       "      <th>stalk-shape</th>\n",
       "      <th>...</th>\n",
       "      <th>stalk-surface-below-ring</th>\n",
       "      <th>stalk-color-above-ring</th>\n",
       "      <th>stalk-color-below-ring</th>\n",
       "      <th>veil-color</th>\n",
       "      <th>ring-number</th>\n",
       "      <th>ring-type</th>\n",
       "      <th>spore-print-color</th>\n",
       "      <th>population</th>\n",
       "      <th>habitat</th>\n",
       "      <th>mushroom</th>\n",
       "    </tr>\n",
       "  </thead>\n",
       "  <tbody>\n",
       "    <tr>\n",
       "      <th>0</th>\n",
       "      <td>2</td>\n",
       "      <td>3</td>\n",
       "      <td>8</td>\n",
       "      <td>0</td>\n",
       "      <td>0</td>\n",
       "      <td>1</td>\n",
       "      <td>1</td>\n",
       "      <td>1</td>\n",
       "      <td>10</td>\n",
       "      <td>1</td>\n",
       "      <td>...</td>\n",
       "      <td>3</td>\n",
       "      <td>7</td>\n",
       "      <td>7</td>\n",
       "      <td>2</td>\n",
       "      <td>1</td>\n",
       "      <td>4</td>\n",
       "      <td>6</td>\n",
       "      <td>4</td>\n",
       "      <td>6</td>\n",
       "      <td>0</td>\n",
       "    </tr>\n",
       "    <tr>\n",
       "      <th>1</th>\n",
       "      <td>2</td>\n",
       "      <td>3</td>\n",
       "      <td>8</td>\n",
       "      <td>0</td>\n",
       "      <td>0</td>\n",
       "      <td>1</td>\n",
       "      <td>1</td>\n",
       "      <td>1</td>\n",
       "      <td>10</td>\n",
       "      <td>1</td>\n",
       "      <td>...</td>\n",
       "      <td>3</td>\n",
       "      <td>7</td>\n",
       "      <td>7</td>\n",
       "      <td>2</td>\n",
       "      <td>1</td>\n",
       "      <td>4</td>\n",
       "      <td>1</td>\n",
       "      <td>4</td>\n",
       "      <td>6</td>\n",
       "      <td>0</td>\n",
       "    </tr>\n",
       "    <tr>\n",
       "      <th>2</th>\n",
       "      <td>2</td>\n",
       "      <td>3</td>\n",
       "      <td>8</td>\n",
       "      <td>0</td>\n",
       "      <td>0</td>\n",
       "      <td>1</td>\n",
       "      <td>1</td>\n",
       "      <td>1</td>\n",
       "      <td>7</td>\n",
       "      <td>1</td>\n",
       "      <td>...</td>\n",
       "      <td>3</td>\n",
       "      <td>7</td>\n",
       "      <td>7</td>\n",
       "      <td>2</td>\n",
       "      <td>1</td>\n",
       "      <td>4</td>\n",
       "      <td>6</td>\n",
       "      <td>4</td>\n",
       "      <td>6</td>\n",
       "      <td>0</td>\n",
       "    </tr>\n",
       "    <tr>\n",
       "      <th>3</th>\n",
       "      <td>2</td>\n",
       "      <td>3</td>\n",
       "      <td>8</td>\n",
       "      <td>0</td>\n",
       "      <td>0</td>\n",
       "      <td>1</td>\n",
       "      <td>1</td>\n",
       "      <td>1</td>\n",
       "      <td>7</td>\n",
       "      <td>1</td>\n",
       "      <td>...</td>\n",
       "      <td>3</td>\n",
       "      <td>7</td>\n",
       "      <td>7</td>\n",
       "      <td>2</td>\n",
       "      <td>1</td>\n",
       "      <td>4</td>\n",
       "      <td>1</td>\n",
       "      <td>4</td>\n",
       "      <td>6</td>\n",
       "      <td>0</td>\n",
       "    </tr>\n",
       "    <tr>\n",
       "      <th>4</th>\n",
       "      <td>2</td>\n",
       "      <td>3</td>\n",
       "      <td>8</td>\n",
       "      <td>0</td>\n",
       "      <td>0</td>\n",
       "      <td>1</td>\n",
       "      <td>1</td>\n",
       "      <td>1</td>\n",
       "      <td>1</td>\n",
       "      <td>1</td>\n",
       "      <td>...</td>\n",
       "      <td>3</td>\n",
       "      <td>7</td>\n",
       "      <td>7</td>\n",
       "      <td>2</td>\n",
       "      <td>1</td>\n",
       "      <td>4</td>\n",
       "      <td>6</td>\n",
       "      <td>4</td>\n",
       "      <td>6</td>\n",
       "      <td>0</td>\n",
       "    </tr>\n",
       "  </tbody>\n",
       "</table>\n",
       "<p>5 rows × 22 columns</p>\n",
       "</div>"
      ],
      "text/plain": [
       "   cap-shape  cap-surface  cap-color  bruises  odor  gill-attachment  \\\n",
       "0          2            3          8        0     0                1   \n",
       "1          2            3          8        0     0                1   \n",
       "2          2            3          8        0     0                1   \n",
       "3          2            3          8        0     0                1   \n",
       "4          2            3          8        0     0                1   \n",
       "\n",
       "   gill-spacing  gill-size  gill-color  stalk-shape  ...  \\\n",
       "0             1          1          10            1  ...   \n",
       "1             1          1          10            1  ...   \n",
       "2             1          1           7            1  ...   \n",
       "3             1          1           7            1  ...   \n",
       "4             1          1           1            1  ...   \n",
       "\n",
       "   stalk-surface-below-ring  stalk-color-above-ring  stalk-color-below-ring  \\\n",
       "0                         3                       7                       7   \n",
       "1                         3                       7                       7   \n",
       "2                         3                       7                       7   \n",
       "3                         3                       7                       7   \n",
       "4                         3                       7                       7   \n",
       "\n",
       "   veil-color  ring-number  ring-type  spore-print-color  population  habitat  \\\n",
       "0           2            1          4                  6           4        6   \n",
       "1           2            1          4                  1           4        6   \n",
       "2           2            1          4                  6           4        6   \n",
       "3           2            1          4                  1           4        6   \n",
       "4           2            1          4                  6           4        6   \n",
       "\n",
       "   mushroom  \n",
       "0         0  \n",
       "1         0  \n",
       "2         0  \n",
       "3         0  \n",
       "4         0  \n",
       "\n",
       "[5 rows x 22 columns]"
      ]
     },
     "execution_count": 6,
     "metadata": {},
     "output_type": "execute_result"
    }
   ],
   "source": [
    "data.head()"
   ]
  },
  {
   "cell_type": "code",
   "execution_count": 7,
   "id": "897f376d",
   "metadata": {},
   "outputs": [
    {
     "data": {
      "text/plain": [
       "[Text(0, 0, 'cap-shape'),\n",
       " Text(1, 0, 'cap-surface'),\n",
       " Text(2, 0, 'cap-color'),\n",
       " Text(3, 0, 'bruises'),\n",
       " Text(4, 0, 'odor'),\n",
       " Text(5, 0, 'gill-attachment'),\n",
       " Text(6, 0, 'gill-spacing'),\n",
       " Text(7, 0, 'gill-size'),\n",
       " Text(8, 0, 'gill-color'),\n",
       " Text(9, 0, 'stalk-shape'),\n",
       " Text(10, 0, 'stalk-root'),\n",
       " Text(11, 0, 'stalk-surface-above-ring'),\n",
       " Text(12, 0, 'stalk-surface-below-ring'),\n",
       " Text(13, 0, 'stalk-color-above-ring'),\n",
       " Text(14, 0, 'stalk-color-below-ring'),\n",
       " Text(15, 0, 'veil-color'),\n",
       " Text(16, 0, 'ring-number'),\n",
       " Text(17, 0, 'ring-type'),\n",
       " Text(18, 0, 'spore-print-color'),\n",
       " Text(19, 0, 'population'),\n",
       " Text(20, 0, 'habitat')]"
      ]
     },
     "execution_count": 7,
     "metadata": {},
     "output_type": "execute_result"
    },
    {
     "data": {
      "image/png": "[encoded data removed]",
      "text/plain": [
       "<Figure size 1152x576 with 1 Axes>"
      ]
     },
     "metadata": {
      "needs_background": "light"
     },
     "output_type": "display_data"
    }
   ],
   "source": [
    "data_div = pd.melt(data, \"mushroom\", var_name=\"Karakteristik\")\n",
    "fig, ax = plt.subplots(figsize=(16,8))\n",
    "p = sns.violinplot(ax = ax, x=\"Karakteristik\", y=\"value\", hue=\"mushroom\", split = True, data=data_div, inner = 'point', palette = 'tab10')\n",
    "data_no_mushroom = data.drop([\"mushroom\"],axis = 1)\n",
    "p.set_xticklabels(rotation = 90, labels = list(data_no_mushroom.columns))\n",
    "#plt.savefig(\"violinplot.png\", format='png', dpi=900, bbox_inches='tight')"
   ]
  },
  {
   "cell_type": "code",
   "execution_count": 8,
   "id": "f7495788",
   "metadata": {},
   "outputs": [
    {
     "data": {
      "text/plain": [
       "cap-shape\n",
       "0     452\n",
       "1       4\n",
       "2    3796\n",
       "3    3292\n",
       "4     840\n",
       "5      32\n",
       "dtype: int64"
      ]
     },
     "metadata": {},
     "output_type": "display_data"
    },
    {
     "name": "stdout",
     "output_type": "stream",
     "text": [
      "1\n"
     ]
    },
    {
     "data": {
      "text/plain": [
       "cap-surface\n",
       "0    2460\n",
       "1       4\n",
       "2    3268\n",
       "3    2684\n",
       "dtype: int64"
      ]
     },
     "metadata": {},
     "output_type": "display_data"
    },
    {
     "name": "stdout",
     "output_type": "stream",
     "text": [
      "2\n"
     ]
    },
    {
     "data": {
      "text/plain": [
       "cap-color\n",
       "0    2320\n",
       "1     168\n",
       "2      44\n",
       "3    2096\n",
       "4      16\n",
       "5     144\n",
       "6      16\n",
       "7    1500\n",
       "8    1040\n",
       "9    1072\n",
       "dtype: int64"
      ]
     },
     "metadata": {},
     "output_type": "display_data"
    },
    {
     "name": "stdout",
     "output_type": "stream",
     "text": [
      "3\n"
     ]
    },
    {
     "data": {
      "text/plain": [
       "bruises\n",
       "0    3376\n",
       "1    5040\n",
       "dtype: int64"
      ]
     },
     "metadata": {},
     "output_type": "display_data"
    },
    {
     "name": "stdout",
     "output_type": "stream",
     "text": [
      "4\n"
     ]
    },
    {
     "data": {
      "text/plain": [
       "odor\n",
       "0     400\n",
       "1     400\n",
       "2     192\n",
       "3     576\n",
       "4    2160\n",
       "5      48\n",
       "6    3808\n",
       "7     256\n",
       "8     576\n",
       "dtype: int64"
      ]
     },
     "metadata": {},
     "output_type": "display_data"
    },
    {
     "name": "stdout",
     "output_type": "stream",
     "text": [
      "5\n"
     ]
    },
    {
     "data": {
      "text/plain": [
       "gill-attachment\n",
       "0     216\n",
       "1    8200\n",
       "dtype: int64"
      ]
     },
     "metadata": {},
     "output_type": "display_data"
    },
    {
     "name": "stdout",
     "output_type": "stream",
     "text": [
      "6\n"
     ]
    },
    {
     "data": {
      "text/plain": [
       "gill-spacing\n",
       "0    6824\n",
       "1    1592\n",
       "dtype: int64"
      ]
     },
     "metadata": {},
     "output_type": "display_data"
    },
    {
     "name": "stdout",
     "output_type": "stream",
     "text": [
      "7\n"
     ]
    },
    {
     "data": {
      "text/plain": [
       "gill-size\n",
       "0    5880\n",
       "1    2536\n",
       "dtype: int64"
      ]
     },
     "metadata": {},
     "output_type": "display_data"
    },
    {
     "name": "stdout",
     "output_type": "stream",
     "text": [
      "8\n"
     ]
    },
    {
     "data": {
      "text/plain": [
       "gill-color\n",
       "0      472\n",
       "1     1112\n",
       "2     1728\n",
       "3      796\n",
       "4      752\n",
       "5       24\n",
       "6       64\n",
       "7     1556\n",
       "8      492\n",
       "9       96\n",
       "10    1232\n",
       "11      92\n",
       "dtype: int64"
      ]
     },
     "metadata": {},
     "output_type": "display_data"
    },
    {
     "name": "stdout",
     "output_type": "stream",
     "text": [
      "9\n"
     ]
    },
    {
     "data": {
      "text/plain": [
       "stalk-shape\n",
       "0    3552\n",
       "1    4864\n",
       "dtype: int64"
      ]
     },
     "metadata": {},
     "output_type": "display_data"
    },
    {
     "name": "stdout",
     "output_type": "stream",
     "text": [
      "10\n"
     ]
    },
    {
     "data": {
      "text/plain": [
       "stalk-root\n",
       "0    3800\n",
       "1     568\n",
       "2    1376\n",
       "3    2480\n",
       "4     192\n",
       "dtype: int64"
      ]
     },
     "metadata": {},
     "output_type": "display_data"
    },
    {
     "name": "stdout",
     "output_type": "stream",
     "text": [
      "11\n"
     ]
    },
    {
     "data": {
      "text/plain": [
       "stalk-surface-above-ring\n",
       "0     692\n",
       "1      24\n",
       "2    2384\n",
       "3    5316\n",
       "dtype: int64"
      ]
     },
     "metadata": {},
     "output_type": "display_data"
    },
    {
     "name": "stdout",
     "output_type": "stream",
     "text": [
      "12\n"
     ]
    },
    {
     "data": {
      "text/plain": [
       "stalk-surface-below-ring\n",
       "0     740\n",
       "1     296\n",
       "2    2304\n",
       "3    5076\n",
       "dtype: int64"
      ]
     },
     "metadata": {},
     "output_type": "display_data"
    },
    {
     "name": "stdout",
     "output_type": "stream",
     "text": [
      "13\n"
     ]
    },
    {
     "data": {
      "text/plain": [
       "stalk-color-above-ring\n",
       "0     448\n",
       "1     432\n",
       "2      48\n",
       "3     576\n",
       "4     192\n",
       "5    1872\n",
       "6      96\n",
       "7    4744\n",
       "8       8\n",
       "dtype: int64"
      ]
     },
     "metadata": {},
     "output_type": "display_data"
    },
    {
     "name": "stdout",
     "output_type": "stream",
     "text": [
      "14\n"
     ]
    },
    {
     "data": {
      "text/plain": [
       "stalk-color-below-ring\n",
       "0     536\n",
       "1     432\n",
       "2      48\n",
       "3     576\n",
       "4     192\n",
       "5    1872\n",
       "6      96\n",
       "7    4640\n",
       "8      24\n",
       "dtype: int64"
      ]
     },
     "metadata": {},
     "output_type": "display_data"
    },
    {
     "name": "stdout",
     "output_type": "stream",
     "text": [
      "15\n"
     ]
    },
    {
     "data": {
      "text/plain": [
       "veil-color\n",
       "0      96\n",
       "1      96\n",
       "2    8216\n",
       "3       8\n",
       "dtype: int64"
      ]
     },
     "metadata": {},
     "output_type": "display_data"
    },
    {
     "name": "stdout",
     "output_type": "stream",
     "text": [
      "16\n"
     ]
    },
    {
     "data": {
      "text/plain": [
       "ring-number\n",
       "0      48\n",
       "1    7768\n",
       "2     600\n",
       "dtype: int64"
      ]
     },
     "metadata": {},
     "output_type": "display_data"
    },
    {
     "name": "stdout",
     "output_type": "stream",
     "text": [
      "17\n"
     ]
    },
    {
     "data": {
      "text/plain": [
       "ring-type\n",
       "0    3056\n",
       "1      48\n",
       "2    1296\n",
       "3      48\n",
       "4    3968\n",
       "dtype: int64"
      ]
     },
     "metadata": {},
     "output_type": "display_data"
    },
    {
     "name": "stdout",
     "output_type": "stream",
     "text": [
      "18\n"
     ]
    },
    {
     "data": {
      "text/plain": [
       "spore-print-color\n",
       "0    2000\n",
       "1    2096\n",
       "2      48\n",
       "3    1632\n",
       "4      72\n",
       "5      48\n",
       "6      48\n",
       "7    2424\n",
       "8      48\n",
       "dtype: int64"
      ]
     },
     "metadata": {},
     "output_type": "display_data"
    },
    {
     "name": "stdout",
     "output_type": "stream",
     "text": [
      "19\n"
     ]
    },
    {
     "data": {
      "text/plain": [
       "population\n",
       "0     512\n",
       "1     352\n",
       "2     400\n",
       "3    1376\n",
       "4    4064\n",
       "5    1712\n",
       "dtype: int64"
      ]
     },
     "metadata": {},
     "output_type": "display_data"
    },
    {
     "name": "stdout",
     "output_type": "stream",
     "text": [
      "20\n"
     ]
    },
    {
     "data": {
      "text/plain": [
       "habitat\n",
       "0    2404\n",
       "1     856\n",
       "2     292\n",
       "3    1144\n",
       "4     368\n",
       "5     192\n",
       "6    3160\n",
       "dtype: int64"
      ]
     },
     "metadata": {},
     "output_type": "display_data"
    },
    {
     "name": "stdout",
     "output_type": "stream",
     "text": [
      "21\n"
     ]
    },
    {
     "data": {
      "text/plain": [
       "mushroom\n",
       "0    4488\n",
       "1    3928\n",
       "dtype: int64"
      ]
     },
     "metadata": {},
     "output_type": "display_data"
    },
    {
     "name": "stdout",
     "output_type": "stream",
     "text": [
      "22\n"
     ]
    }
   ],
   "source": [
    "i = 1\n",
    "for column in data.columns:\n",
    "    occur = data.groupby([column]).size()\n",
    "    display(occur)\n",
    "    print(i)\n",
    "    i+=1"
   ]
  },
  {
   "cell_type": "code",
   "execution_count": 9,
   "id": "b91d3be1",
   "metadata": {},
   "outputs": [],
   "source": [
    "# plt.figure(figsize=(15,10))\n",
    "# for i, col in enumerate(data.columns):\n",
    "#     sns.set_palette(sns.color_palette(\"Paired\"))\n",
    "#     ax = plt.subplot(6,4,i+1)\n",
    "#     sns.countplot(\n",
    "#         x=col, data = data, ax = ax, \n",
    "#         order = data[col].value_counts(ascending=True).index\n",
    "#     )\n",
    "#     sns.set_style('whitegrid')\n",
    "#     plt.xticks(rotation=90)\n",
    "#     plt.ylabel(\"Median Price\")\n",
    "#     plt.tight_layout()\n",
    "# plt.show()"
   ]
  },
  {
   "cell_type": "code",
   "execution_count": 10,
   "id": "c916d8c7",
   "metadata": {},
   "outputs": [],
   "source": [
    "def cramers_corrected_stat(confusion_matrix):\n",
    "    chi2 = ss.chi2_contingency(confusion_matrix)[0]\n",
    "    n = confusion_matrix.sum().sum()\n",
    "    phi2 = chi2/n\n",
    "    r,k = confusion_matrix.shape\n",
    "    phi2corr = max(0, phi2 - ((k-1)*(r-1))/(n-1))    \n",
    "    rcorr = r - ((r-1)**2)/(n-1)\n",
    "    kcorr = k - ((k-1)**2)/(n-1)\n",
    "    return np.sqrt(phi2corr / min( (kcorr-1), (rcorr-1)))\n",
    "\n",
    "cols = list(data.columns)\n",
    "corrM = np.zeros((len(cols),len(cols)))\n",
    "\n",
    "for col1, col2 in itertools.combinations(cols, 2):\n",
    "    idx1, idx2 = cols.index(col1), cols.index(col2)\n",
    "    corrM[idx1, idx2] = cramers_corrected_stat(pd.crosstab(data[col1], data[col2]))\n",
    "    corrM[idx2, idx1] = corrM[idx1, idx2]"
   ]
  },
  {
   "cell_type": "code",
   "execution_count": 11,
   "id": "93c3b0c0",
   "metadata": {},
   "outputs": [
    {
     "data": {
      "image/png": "[encoded data removed]",
      "text/plain": [
       "<Figure size 1296x1080 with 2 Axes>"
      ]
     },
     "metadata": {
      "needs_background": "light"
     },
     "output_type": "display_data"
    }
   ],
   "source": [
    "mask = np.triu(data.corr()-1)\n",
    "\n",
    "# plt.figure(figsize=(18,15))\n",
    "# sns.heatmap(data.corr(),linewidths=.1,cmap=\"coolwarm\", annot=True, annot_kws={\"size\": 7}, mask= mask)\n",
    "# plt.yticks(rotation=0);\n",
    "# #plt.savefig(\"corr.png\", format='png', dpi=900, bbox_inches='tight')\n",
    "# Metode Pearson diatas\n",
    "\n",
    "corr = pd.DataFrame(corrM, index=cols, columns=cols)\n",
    "fig, ax = plt.subplots(figsize=(18, 15))\n",
    "ax = sns.heatmap(corr,linewidths=.1,cmap=\"coolwarm\", annot=True, ax=ax, annot_kws={\"size\": 7}, mask= mask);\n",
    "ax.set_title(\"Korelasi Cramer V\");"
   ]
  },
  {
   "cell_type": "code",
   "execution_count": null,
   "id": "acc5e5b1",
   "metadata": {},
   "outputs": [],
   "source": []
  },
  {
   "cell_type": "code",
   "execution_count": null,
   "id": "12b6355e",
   "metadata": {},
   "outputs": [],
   "source": []
  }
 ],
 "metadata": {
  "kernelspec": {
   "display_name": "Python 3.9.12 ('base': conda)",
   "language": "python",
   "name": "python3"
  },
  "language_info": {
   "codemirror_mode": {
    "name": "ipython",
    "version": 3
   },
   "file_extension": ".py",
   "mimetype": "text/x-python",
   "name": "python",
   "nbconvert_exporter": "python",
   "pygments_lexer": "ipython3",
   "version": "3.9.12"
  },
  "vscode": {
   "interpreter": {
    "hash": "263930470851f494f0ed2879c35b57985588df20f9e529b86e97dd5eb9ddc466"
   }
  }
 },
 "nbformat": 4,
 "nbformat_minor": 5
}
